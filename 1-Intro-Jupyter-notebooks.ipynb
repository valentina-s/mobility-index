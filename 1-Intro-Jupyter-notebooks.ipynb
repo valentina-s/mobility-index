{
 "cells": [
  {
   "cell_type": "markdown",
   "metadata": {},
   "source": [
    "# Introduction to Jupyter notebooks and Pandas"
   ]
  },
  {
   "cell_type": "markdown",
   "metadata": {},
   "source": [
    "## 1. Opening and Navigating the IPython Notebook\n",
    "\n",
    "We will start today with the interactive environment that we will be using in the tutorial: the [Jupyter Notebook](http://jupyter.org).\n",
    "\n",
    "We will walk through the following steps together:\n",
    "\n",
    "1. (If you don't yet have anaconda) Download [miniconda](https://conda.io/miniconda.html) (be sure to get Version 3.6) and install it on your system (hopefully you have done this before coming to class)\n",
    "   ```\n",
    "   ```\n",
    "\n",
    "2. Use the ``conda`` command-line tool to update your package listing and install the IPython notebook:\n",
    "\n",
    "   Update ``conda``'s listing of packages for your system:\n",
    "   ```\n",
    "   $ conda update conda\n",
    "   ```\n",
    "   \n",
    "   Install IPython notebook and all its requirements\n",
    "   ```\n",
    "   $ conda install jupyter notebook\n",
    "   ```\n",
    "   \n",
    "4. Use git to clone our repo: \n",
    "\n",
    "```\n",
    "git clone https://github.com/uwescience/dssg2018-geopandasSQL-tutorial\n",
    "```\n",
    "   \n",
    "3. Navigate to the directory containing the tutorial material\n",
    "\n",
    "   ```\n",
    "   $ cd ~/dssg2018-geopandasSQL-tutorial/\n",
    "   ```\n",
    "   \n",
    "   You should see a number of files in the directory, including these:\n",
    "   \n",
    "   ```\n",
    "   $ ls\n",
    "   ...\n",
    "   0-Jupyter-notebooks.ipynb\n",
    "   1-intro-geopandas.ipynb\n",
    "   ...\n",
    "   ```\n",
    "\n",
    "4. Type ``jupyter notebook`` in the terminal to start the notebook\n",
    "\n",
    "   ```\n",
    "   $ jupyter notebook\n",
    "   ```\n",
    "   \n",
    "   If everything has worked correctly, it should automatically launch your default browser\n",
    "   ```\n",
    "   ```\n",
    "   \n",
    "5. Click on ``0-Jupyter-numpy.ipynb`` to open the notebook containing the content for this lecture.\n",
    "\n",
    "With that, you're set up to use the Jupyter notebook!"
   ]
  },
  {
   "cell_type": "markdown",
   "metadata": {},
   "source": [
    "## About Jupyter\n",
    "\n",
    "- Combines the features of an IPython terminal with a fancy web interface\n",
    "- Every notebook has one python instance running with it\n",
    "- Also supports markdown and html embedding\n",
    "- Easy to insert $\\LaTeX$ formulas\n",
    "- Be ware of VIM-style keyboard shortcuts"
   ]
  },
  {
   "cell_type": "code",
   "execution_count": null,
   "metadata": {},
   "outputs": [],
   "source": []
  },
  {
   "cell_type": "markdown",
   "metadata": {},
   "source": []
  },
  {
   "cell_type": "code",
   "execution_count": null,
   "metadata": {},
   "outputs": [],
   "source": []
  },
  {
   "cell_type": "markdown",
   "metadata": {},
   "source": [
    "## Python refresher\n",
    "- Components with the same capabilities are of the same *type*. \n",
    "  - For example, the numbers 2 and 200 are both integers.\n",
    "  \n",
    "- A type is defined recursively. Some examples.\n",
    "  - A list is a collection of objects that can be indexed by position.\n",
    "  - A list of integers contains an integer at each position.\n",
    "  \n",
    "- A type has a set of supported operations. For example:\n",
    "  - Integers can be added\n",
    "  - Strings can be concatented\n",
    "  - A table can find the name of its columns\n",
    "    - What type is returned from the operation?\n",
    "    \n",
    "- In python, members (components and operations) are indicated by a '.'\n",
    "  - If `a` is a list, the `a.append(1)` adds `1` to the list."
   ]
  },
  {
   "cell_type": "code",
   "execution_count": null,
   "metadata": {},
   "outputs": [],
   "source": [
    "a = 1"
   ]
  },
  {
   "cell_type": "code",
   "execution_count": null,
   "metadata": {},
   "outputs": [],
   "source": [
    "# Python lists can store data of different types at the same time\n",
    "a_list = [1, 'a', [1,2]]"
   ]
  },
  {
   "cell_type": "code",
   "execution_count": null,
   "metadata": {},
   "outputs": [],
   "source": []
  },
  {
   "cell_type": "code",
   "execution_count": null,
   "metadata": {},
   "outputs": [],
   "source": [
    "# What if we forgot what functions a list has?\n",
    "a_list.append?"
   ]
  },
  {
   "cell_type": "code",
   "execution_count": null,
   "metadata": {},
   "outputs": [],
   "source": []
  },
  {
   "cell_type": "code",
   "execution_count": null,
   "metadata": {},
   "outputs": [],
   "source": []
  },
  {
   "cell_type": "code",
   "execution_count": null,
   "metadata": {},
   "outputs": [],
   "source": [
    "a_list.append(2)"
   ]
  },
  {
   "cell_type": "code",
   "execution_count": null,
   "metadata": {},
   "outputs": [],
   "source": [
    "a_list"
   ]
  },
  {
   "cell_type": "code",
   "execution_count": null,
   "metadata": {},
   "outputs": [],
   "source": []
  },
  {
   "cell_type": "code",
   "execution_count": null,
   "metadata": {},
   "outputs": [],
   "source": []
  },
  {
   "cell_type": "code",
   "execution_count": null,
   "metadata": {},
   "outputs": [],
   "source": []
  },
  {
   "cell_type": "code",
   "execution_count": null,
   "metadata": {},
   "outputs": [],
   "source": [
    "# What are the full set of functions available for our list\n",
    "dir(a_list)"
   ]
  },
  {
   "cell_type": "code",
   "execution_count": null,
   "metadata": {},
   "outputs": [],
   "source": [
    "# Count how many times the integer '1' occurs\n",
    "a_list.count(1)"
   ]
  },
  {
   "cell_type": "code",
   "execution_count": null,
   "metadata": {},
   "outputs": [],
   "source": []
  },
  {
   "cell_type": "code",
   "execution_count": null,
   "metadata": {},
   "outputs": [],
   "source": []
  },
  {
   "cell_type": "code",
   "execution_count": null,
   "metadata": {},
   "outputs": [],
   "source": []
  },
  {
   "cell_type": "markdown",
   "metadata": {},
   "source": [
    "## The IPython kernel/client model\n"
   ]
  },
  {
   "cell_type": "code",
   "execution_count": null,
   "metadata": {},
   "outputs": [],
   "source": [
    "%connect_info"
   ]
  },
  {
   "cell_type": "markdown",
   "metadata": {},
   "source": [
    "We can connect automatically a Qt Console to the currently running kernel with the %qtconsole magic, or by typing ipython console --existing <kernel-UUID> in any terminal:"
   ]
  },
  {
   "cell_type": "code",
   "execution_count": null,
   "metadata": {},
   "outputs": [],
   "source": [
    "%qtconsole magic"
   ]
  },
  {
   "cell_type": "code",
   "execution_count": null,
   "metadata": {},
   "outputs": [],
   "source": []
  },
  {
   "cell_type": "code",
   "execution_count": null,
   "metadata": {},
   "outputs": [],
   "source": []
  },
  {
   "cell_type": "code",
   "execution_count": null,
   "metadata": {},
   "outputs": [],
   "source": []
  },
  {
   "cell_type": "markdown",
   "metadata": {},
   "source": [
    "## Python's Data Science Ecosystem\n",
    "\n",
    "There are also many often-used third-party modules that are core tools for doing data science with Python.\n",
    "Some of the most important ones are:\n",
    "\n",
    "#### [``numpy``](http://numpy.org/): Numerical Python\n",
    "\n",
    "Numpy is short for \"Numerical Python\", and contains tools for efficient manipulation of arrays of data.\n",
    "If you have used other computational tools like IDL or MatLab, Numpy should feel very familiar.\n",
    "\n",
    "#### [``scipy``](http://scipy.org/): Scientific Python\n",
    "\n",
    "Scipy is short for \"Scientific Python\", and contains a wide range of functionality for accomplishing common scientific tasks, such as optimization/minimization, numerical integration, interpolation, and much more.\n",
    "\n",
    "#### [``pandas``](http://pandas.pydata.org/): Labeled Data Manipulation in Python\n",
    "\n",
    "Pandas is short for \"Panel Data\", and contains tools for doing more advanced manipulation of labeled data in Python, in particular with a columnar data structure called a *Data Frame*.\n",
    "If you've used the [R](http://rstats.org) statistical language , much of the functionality in Pandas should feel very familiar.\n",
    "\n",
    "#### [``matplotlib``](http://matplotlib.org): Visualization in Python\n",
    "\n",
    "Matplotlib started out as a Matlab plotting clone in Python, and has grown from there in the 15 years since its creation. It is the most popular data visualization tool currently in the Python data world (though other recent packages are starting to encroach on its monopoly)."
   ]
  },
  {
   "cell_type": "code",
   "execution_count": null,
   "metadata": {},
   "outputs": [],
   "source": []
  },
  {
   "cell_type": "code",
   "execution_count": null,
   "metadata": {},
   "outputs": [],
   "source": [
    "import pandas as pd\n",
    "df = pd.read_csv('data/Places_Full.csv')"
   ]
  },
  {
   "cell_type": "code",
   "execution_count": null,
   "metadata": {},
   "outputs": [],
   "source": [
    "df"
   ]
  },
  {
   "cell_type": "markdown",
   "metadata": {},
   "source": [
    "### What to do next?\n",
    "\n",
    "Now that we've loaded our .csv file into a pandas data frame, we have some powerful tools available to us. In the next segment we'll see a sample of operations we can do with pandas and geopandas."
   ]
  },
  {
   "cell_type": "code",
   "execution_count": null,
   "metadata": {},
   "outputs": [],
   "source": []
  },
  {
   "cell_type": "code",
   "execution_count": null,
   "metadata": {},
   "outputs": [],
   "source": []
  }
 ],
 "metadata": {
  "kernelspec": {
   "display_name": "Python 3",
   "language": "python",
   "name": "python3"
  },
  "language_info": {
   "codemirror_mode": {
    "name": "ipython",
    "version": 3
   },
   "file_extension": ".py",
   "mimetype": "text/x-python",
   "name": "python",
   "nbconvert_exporter": "python",
   "pygments_lexer": "ipython3",
   "version": "3.6.5"
  }
 },
 "nbformat": 4,
 "nbformat_minor": 2
}
